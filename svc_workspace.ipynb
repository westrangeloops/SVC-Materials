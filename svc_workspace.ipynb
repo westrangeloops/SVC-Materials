{
 "cells": [
  {
   "cell_type": "code",
   "execution_count": 1,
   "metadata": {},
   "outputs": [],
   "source": [
    "from SVC_materials.svc_materials import q2D_creator"
   ]
  },
  {
   "cell_type": "code",
   "execution_count": 2,
   "metadata": {},
   "outputs": [],
   "source": [
    "############  EXAMPLE ############\n",
    "P1 = \"6.88270  -0.00111  10.43607\"\n",
    "P2 = \"5.49067  -0.00113   9.90399\"\n",
    "P3 = \"6.88270  -0.00111   4.49028\"\n",
    "Q1 = \"0.93691   5.94468  10.43607\"\n",
    "Q2 = \"-0.45512   5.94466   9.90399\"\n",
    "Q3 = \"  0.93691   5.94468   4.49028\"\n",
    "\n",
    "mol_file ='Examples/benzyl_di_ammonium.xyz' # Molecule file, it could be a mol2 or xyz file\n",
    "perov_file ='Examples/SuperCell_MAPbI3.vasp' # This need to be a .vasp file with cartesian coordinates, in future version we would take more formats.\n",
    "\n",
    "mol = q2D_creator(B='Pb',X='I', # B is the metal center and X are the octahedra vertex elements\n",
    "                  molecule_xyz=mol_file, # Molecule path\n",
    "                  perov_vasp=perov_file, # Perovskite path\n",
    "                  P1=P1,P2=P2, P3=P3, Q1= Q1, Q2=Q2, Q3=Q3, # Desired positions to put the organic molecule in the perovskite\n",
    "                  name='Perov1', # Name of the system, is used save the files \n",
    "                  vac=10 # Amount of vacuum in Z direction for the SVC\n",
    "                  )\n",
    "\n",
    "mol.show_bulk(slab=1, hn=0.3) # Slab is the number of perovskite slabs, and hn is the penetration of the molecule in the slab\n",
    "mol.show_svc()\n",
    "mol.show_iso()\n",
    "#mol.write_iso() \n",
    "#mol.write_svc()\n",
    "#mol.write_bulk(slab=1, hn=0.3, order=['N', 'C', 'H', 'Pb', 'Br']) # Order specify the desired element order in the .vasp file"
   ]
  }
 ],
 "metadata": {
  "kernelspec": {
   "display_name": "svc_maestra",
   "language": "python",
   "name": "python3"
  },
  "language_info": {
   "codemirror_mode": {
    "name": "ipython",
    "version": 3
   },
   "file_extension": ".py",
   "mimetype": "text/x-python",
   "name": "python",
   "nbconvert_exporter": "python",
   "pygments_lexer": "ipython3",
   "version": "3.12.4"
  },
  "orig_nbformat": 4
 },
 "nbformat": 4,
 "nbformat_minor": 2
}
