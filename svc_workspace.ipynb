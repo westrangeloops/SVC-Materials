{
 "cells": [
  {
   "cell_type": "code",
   "execution_count": 1,
   "metadata": {},
   "outputs": [],
   "source": [
    "import OctaDist.octadist as oc\n",
    "from main.svc_materials import q2D_creator\n",
    "from main.svc_materials import q2D_analysis"
   ]
  },
  {
   "cell_type": "code",
   "execution_count": 2,
   "metadata": {},
   "outputs": [
    {
     "name": "stdout",
     "output_type": "stream",
     "text": [
      "Working\n",
      "Hey\n"
     ]
    },
    {
     "name": "stderr",
     "output_type": "stream",
     "text": [
      "/home/pollofrito/anaconda3/envs/MAESTRA/lib/python3.8/site-packages/ase/io/jsonio.py:122: VisibleDeprecationWarning: Creating an ndarray from ragged nested sequences (which is a list-or-tuple of lists-or-tuples-or ndarrays with different lengths or shapes) is deprecated. If you meant to do this, you must specify 'dtype=object' when creating the ndarray.\n",
      "  a = np.array(obj)\n",
      "/home/pollofrito/anaconda3/envs/MAESTRA/lib/python3.8/site-packages/ase/io/jsonio.py:122: VisibleDeprecationWarning: Creating an ndarray from ragged nested sequences (which is a list-or-tuple of lists-or-tuples-or ndarrays with different lengths or shapes) is deprecated. If you meant to do this, you must specify 'dtype=object' when creating the ndarray.\n",
      "  a = np.array(obj)\n",
      "/home/pollofrito/anaconda3/envs/MAESTRA/lib/python3.8/site-packages/ase/io/jsonio.py:122: VisibleDeprecationWarning: Creating an ndarray from ragged nested sequences (which is a list-or-tuple of lists-or-tuples-or ndarrays with different lengths or shapes) is deprecated. If you meant to do this, you must specify 'dtype=object' when creating the ndarray.\n",
      "  a = np.array(obj)\n"
     ]
    }
   ],
   "source": [
    "############  EXAMPLE ############\n",
    "P1 = \"0.71589 3.64818 11.65174\"\n",
    "P2 = \"-1.90768 5.12176 0.44573\"\n",
    "P3 = \"-0.72852 4.82914 17.88274\"\n",
    "Q1 = \"4.94461 0.14891 17.98153\"\n",
    "Q2 = \"3.67367 -0.62894 17.89210\"\n",
    "Q3 = \"2.48304 -0.85654 0.46051\"\n",
    "\n",
    "mol_file ='Examples/phenyl_m2.mol2' # Molecule file, it could be a mol2 or xyz file\n",
    "perov_file ='Examples/H6PbCI3N_natural.vasp' # This need to be a .vasp file with cartesian coordinates, in future version we would take more formats.\n",
    "\n",
    "mol = q2D_creator(B='Pb',X='I', # B is the metal center and X are the octahedra vertex elements\n",
    "                  molecule_xyz=mol_file, # Molecule path\n",
    "                  perov_vasp=perov_file, # Perovskite path\n",
    "                  P1=P1,P2=P2, P3=P3, Q1= Q1, Q2=Q2, Q3=Q3, # Desired positions to put the organic molecule in the perovskite\n",
    "                  name='Phenyl_PbI', # Name of the system, is used save the files \n",
    "                  vac=10 # Amount of vacuum in Z direction for the SVC\n",
    "                  )\n",
    "\n",
    "mol.show_bulk(slab=1, hn=0.3) # Slab is the number of perovskite slabs, and hn is the penetration of the molecule in the slab\n",
    "mol.show_svc()\n",
    "mol.show_iso()\n",
    "#mol.write_iso() \n",
    "#mol.write_svc()\n",
    "mol.write_bulk(slab=1, hn=0.3, order=['N', 'C', 'H', 'I', 'Pb']) # Order specify the desired element order in the .vasp file"
   ]
  },
  {
   "cell_type": "code",
   "execution_count": 3,
   "metadata": {},
   "outputs": [
    {
     "name": "stdout",
     "output_type": "stream",
     "text": [
      "1\n",
      "Your isolated salt file was save as:  Examples/salt_bulk_Phenyl_PbI.vasp\n",
      "B:X proportion =  12.8\n"
     ]
    },
    {
     "name": "stderr",
     "output_type": "stream",
     "text": [
      "/home/pollofrito/Documents/SVC/DEVELOP/SVC-Materials/SVC-Materials/main/svc_materials.py:228: SettingWithCopyWarning: \n",
      "A value is trying to be set on a copy of a slice from a DataFrame\n",
      "\n",
      "See the caveats in the documentation: https://pandas.pydata.org/pandas-docs/stable/user_guide/indexing.html#returning-a-view-versus-a-copy\n",
      "  MP.sort_values('Element', inplace=True)\n"
     ]
    }
   ],
   "source": [
    "path_result = 'Examples/bulk_Phenyl_PbI.vasp' # This must be a .vasp file in cartesian.\n",
    "\n",
    "q2D = q2D_analysis(B='Pb', X='I', crystal=path_result) # Create the analysis class\n",
    "# ISOLATE SPACER SVC (SALT)\n",
    "q2D.isolate_spacer() # This write the new SVC salt structure in a .vasp file\n",
    "# OCTAHEDRA\n",
    "# Cell cutoff in to complate the octahedra in PBC, change it to 1 if you have problems,\n",
    "# if the cell is to big it would cost more resources default is 0.5 (half cell).\n",
    "# bon_cutoff is the max distance radii it would search for neighbors in the octahedra default is 3.5 A\n",
    "prop_df, octa_dict = q2D.octahedra(cell_cutoff=0.5, bond_cutoff=3.5)"
   ]
  },
  {
   "cell_type": "markdown",
   "metadata": {},
   "source": [
    "## Plots:\n",
    "We would show how to use the OctaDist to plot different interesting representations."
   ]
  },
  {
   "cell_type": "code",
   "execution_count": 4,
   "metadata": {},
   "outputs": [
    {
     "data": {
      "text/html": [
       "<div>\n",
       "<style scoped>\n",
       "    .dataframe tbody tr th:only-of-type {\n",
       "        vertical-align: middle;\n",
       "    }\n",
       "\n",
       "    .dataframe tbody tr th {\n",
       "        vertical-align: top;\n",
       "    }\n",
       "\n",
       "    .dataframe thead th {\n",
       "        text-align: right;\n",
       "    }\n",
       "</style>\n",
       "<table border=\"1\" class=\"dataframe\">\n",
       "  <thead>\n",
       "    <tr style=\"text-align: right;\">\n",
       "      <th></th>\n",
       "      <th>Element</th>\n",
       "      <th>X</th>\n",
       "      <th>Y</th>\n",
       "      <th>Z</th>\n",
       "      <th>d_mean</th>\n",
       "      <th>Zeta</th>\n",
       "      <th>Delta</th>\n",
       "      <th>Sigma</th>\n",
       "      <th>theta</th>\n",
       "      <th>theta_min</th>\n",
       "      <th>theta_max</th>\n",
       "    </tr>\n",
       "  </thead>\n",
       "  <tbody>\n",
       "    <tr>\n",
       "      <th>34</th>\n",
       "      <td>Pb</td>\n",
       "      <td>8.556726</td>\n",
       "      <td>9.250460</td>\n",
       "      <td>19.303887</td>\n",
       "      <td>3.257456</td>\n",
       "      <td>0.019787</td>\n",
       "      <td>0.000001</td>\n",
       "      <td>46.537030</td>\n",
       "      <td>131.332998</td>\n",
       "      <td>101.645317</td>\n",
       "      <td>161.020679</td>\n",
       "    </tr>\n",
       "    <tr>\n",
       "      <th>35</th>\n",
       "      <td>Pb</td>\n",
       "      <td>12.835089</td>\n",
       "      <td>13.875690</td>\n",
       "      <td>19.303887</td>\n",
       "      <td>3.257456</td>\n",
       "      <td>0.019787</td>\n",
       "      <td>0.000001</td>\n",
       "      <td>46.536995</td>\n",
       "      <td>131.332895</td>\n",
       "      <td>101.645249</td>\n",
       "      <td>161.020541</td>\n",
       "    </tr>\n",
       "    <tr>\n",
       "      <th>46</th>\n",
       "      <td>Pb</td>\n",
       "      <td>8.556726</td>\n",
       "      <td>18.500919</td>\n",
       "      <td>19.303887</td>\n",
       "      <td>3.257456</td>\n",
       "      <td>0.019787</td>\n",
       "      <td>0.000001</td>\n",
       "      <td>46.537030</td>\n",
       "      <td>131.332998</td>\n",
       "      <td>101.645317</td>\n",
       "      <td>161.020679</td>\n",
       "    </tr>\n",
       "    <tr>\n",
       "      <th>60</th>\n",
       "      <td>Pb</td>\n",
       "      <td>17.113453</td>\n",
       "      <td>9.250460</td>\n",
       "      <td>19.303887</td>\n",
       "      <td>3.257456</td>\n",
       "      <td>0.019787</td>\n",
       "      <td>0.000001</td>\n",
       "      <td>46.537030</td>\n",
       "      <td>131.332998</td>\n",
       "      <td>101.645317</td>\n",
       "      <td>161.020679</td>\n",
       "    </tr>\n",
       "    <tr>\n",
       "      <th>66</th>\n",
       "      <td>Pb</td>\n",
       "      <td>17.113453</td>\n",
       "      <td>18.500919</td>\n",
       "      <td>19.303887</td>\n",
       "      <td>3.257456</td>\n",
       "      <td>0.019787</td>\n",
       "      <td>0.000001</td>\n",
       "      <td>46.537030</td>\n",
       "      <td>131.332998</td>\n",
       "      <td>101.645317</td>\n",
       "      <td>161.020679</td>\n",
       "    </tr>\n",
       "  </tbody>\n",
       "</table>\n",
       "</div>"
      ],
      "text/plain": [
       "   Element          X          Y          Z    d_mean      Zeta     Delta  \\\n",
       "34      Pb   8.556726   9.250460  19.303887  3.257456  0.019787  0.000001   \n",
       "35      Pb  12.835089  13.875690  19.303887  3.257456  0.019787  0.000001   \n",
       "46      Pb   8.556726  18.500919  19.303887  3.257456  0.019787  0.000001   \n",
       "60      Pb  17.113453   9.250460  19.303887  3.257456  0.019787  0.000001   \n",
       "66      Pb  17.113453  18.500919  19.303887  3.257456  0.019787  0.000001   \n",
       "\n",
       "        Sigma       theta   theta_min   theta_max  \n",
       "34  46.537030  131.332998  101.645317  161.020679  \n",
       "35  46.536995  131.332895  101.645249  161.020541  \n",
       "46  46.537030  131.332998  101.645317  161.020679  \n",
       "60  46.537030  131.332998  101.645317  161.020679  \n",
       "66  46.537030  131.332998  101.645317  161.020679  "
      ]
     },
     "execution_count": 4,
     "metadata": {},
     "output_type": "execute_result"
    }
   ],
   "source": [
    "prop_df # The properties dataframe is useful to select the desired octahedra\n"
   ]
  },
  {
   "cell_type": "code",
   "execution_count": 27,
   "metadata": {},
   "outputs": [
    {
     "data": {
      "application/vnd.plotly.v1+json": {
       "config": {
        "plotlyServerURL": "https://plot.ly"
       },
       "data": [
        {
         "marker": {
          "color": [
           "#575961",
           "#940094",
           "#940094",
           "#940094",
           "#940094",
           "#940094",
           "#940094"
          ],
          "colorscale": [
           [
            0,
            "#440154"
           ],
           [
            0.1111111111111111,
            "#482878"
           ],
           [
            0.2222222222222222,
            "#3e4989"
           ],
           [
            0.3333333333333333,
            "#31688e"
           ],
           [
            0.4444444444444444,
            "#26828e"
           ],
           [
            0.5555555555555556,
            "#1f9e89"
           ],
           [
            0.6666666666666666,
            "#35b779"
           ],
           [
            0.7777777777777778,
            "#6ece58"
           ],
           [
            0.8888888888888888,
            "#b5de2b"
           ],
           [
            1,
            "#fde725"
           ]
          ],
          "line": {
           "color": "rgb(0,0,0)",
           "width": 10
          },
          "opacity": 0.9,
          "size": [
           153.99999618530273,
           139.9999976158142,
           139.9999976158142,
           139.9999976158142,
           139.9999976158142,
           139.9999976158142,
           139.9999976158142
          ]
         },
         "mode": "markers",
         "name": "atoms",
         "type": "scatter3d",
         "x": [
          8.556726455688477,
          11.261216163635254,
          10.130599021911621,
          8.233855247497559,
          8.879597663879395,
          5.852235794067383,
          6.982853889465332
         ],
         "y": [
          9.250459671020508,
          7.466609954833984,
          12.091839790344238,
          9.366978645324707,
          9.133940696716309,
          11.034308433532715,
          6.409079074859619
         ],
         "z": [
          19.30388641357422,
          19.590993881225586,
          19.016780853271484,
          22.5447998046875,
          16.06297492980957,
          19.016780853271484,
          19.590993881225586
         ]
        },
        {
         "line": {
          "color": "black",
          "width": 20
         },
         "mode": "lines",
         "name": "bond-1",
         "opacity": 0.7,
         "type": "scatter3d",
         "x": [
          8.556726455688477,
          11.261216163635254
         ],
         "y": [
          9.250459671020508,
          7.466609954833984
         ],
         "z": [
          19.30388641357422,
          19.590993881225586
         ]
        },
        {
         "line": {
          "color": "black",
          "width": 20
         },
         "mode": "lines",
         "name": "bond-2",
         "opacity": 0.7,
         "type": "scatter3d",
         "x": [
          8.556726455688477,
          10.130599021911621
         ],
         "y": [
          9.250459671020508,
          12.091839790344238
         ],
         "z": [
          19.30388641357422,
          19.016780853271484
         ]
        },
        {
         "line": {
          "color": "black",
          "width": 20
         },
         "mode": "lines",
         "name": "bond-3",
         "opacity": 0.7,
         "type": "scatter3d",
         "x": [
          8.556726455688477,
          8.233855247497559
         ],
         "y": [
          9.250459671020508,
          9.366978645324707
         ],
         "z": [
          19.30388641357422,
          22.5447998046875
         ]
        },
        {
         "line": {
          "color": "black",
          "width": 20
         },
         "mode": "lines",
         "name": "bond-4",
         "opacity": 0.7,
         "type": "scatter3d",
         "x": [
          8.556726455688477,
          8.879597663879395
         ],
         "y": [
          9.250459671020508,
          9.133940696716309
         ],
         "z": [
          19.30388641357422,
          16.06297492980957
         ]
        },
        {
         "line": {
          "color": "black",
          "width": 20
         },
         "mode": "lines",
         "name": "bond-5",
         "opacity": 0.7,
         "type": "scatter3d",
         "x": [
          8.556726455688477,
          5.852235794067383
         ],
         "y": [
          9.250459671020508,
          11.034308433532715
         ],
         "z": [
          19.30388641357422,
          19.016780853271484
         ]
        },
        {
         "line": {
          "color": "black",
          "width": 20
         },
         "mode": "lines",
         "name": "bond-6",
         "opacity": 0.7,
         "type": "scatter3d",
         "x": [
          8.556726455688477,
          6.982853889465332
         ],
         "y": [
          9.250459671020508,
          6.409079074859619
         ],
         "z": [
          19.30388641357422,
          19.590993881225586
         ]
        }
       ],
       "layout": {
        "scene": {
         "xaxis": {
          "range": [
           5.352235794067383,
           11.761216163635254
          ]
         },
         "yaxis": {
          "range": [
           5.909079074859619,
           12.591839790344238
          ]
         },
         "zaxis": {
          "range": [
           15.56297492980957,
           23.0447998046875
          ]
         }
        },
        "template": {
         "data": {
          "bar": [
           {
            "error_x": {
             "color": "#2a3f5f"
            },
            "error_y": {
             "color": "#2a3f5f"
            },
            "marker": {
             "line": {
              "color": "#E5ECF6",
              "width": 0.5
             },
             "pattern": {
              "fillmode": "overlay",
              "size": 10,
              "solidity": 0.2
             }
            },
            "type": "bar"
           }
          ],
          "barpolar": [
           {
            "marker": {
             "line": {
              "color": "#E5ECF6",
              "width": 0.5
             },
             "pattern": {
              "fillmode": "overlay",
              "size": 10,
              "solidity": 0.2
             }
            },
            "type": "barpolar"
           }
          ],
          "carpet": [
           {
            "aaxis": {
             "endlinecolor": "#2a3f5f",
             "gridcolor": "white",
             "linecolor": "white",
             "minorgridcolor": "white",
             "startlinecolor": "#2a3f5f"
            },
            "baxis": {
             "endlinecolor": "#2a3f5f",
             "gridcolor": "white",
             "linecolor": "white",
             "minorgridcolor": "white",
             "startlinecolor": "#2a3f5f"
            },
            "type": "carpet"
           }
          ],
          "choropleth": [
           {
            "colorbar": {
             "outlinewidth": 0,
             "ticks": ""
            },
            "type": "choropleth"
           }
          ],
          "contour": [
           {
            "colorbar": {
             "outlinewidth": 0,
             "ticks": ""
            },
            "colorscale": [
             [
              0,
              "#0d0887"
             ],
             [
              0.1111111111111111,
              "#46039f"
             ],
             [
              0.2222222222222222,
              "#7201a8"
             ],
             [
              0.3333333333333333,
              "#9c179e"
             ],
             [
              0.4444444444444444,
              "#bd3786"
             ],
             [
              0.5555555555555556,
              "#d8576b"
             ],
             [
              0.6666666666666666,
              "#ed7953"
             ],
             [
              0.7777777777777778,
              "#fb9f3a"
             ],
             [
              0.8888888888888888,
              "#fdca26"
             ],
             [
              1,
              "#f0f921"
             ]
            ],
            "type": "contour"
           }
          ],
          "contourcarpet": [
           {
            "colorbar": {
             "outlinewidth": 0,
             "ticks": ""
            },
            "type": "contourcarpet"
           }
          ],
          "heatmap": [
           {
            "colorbar": {
             "outlinewidth": 0,
             "ticks": ""
            },
            "colorscale": [
             [
              0,
              "#0d0887"
             ],
             [
              0.1111111111111111,
              "#46039f"
             ],
             [
              0.2222222222222222,
              "#7201a8"
             ],
             [
              0.3333333333333333,
              "#9c179e"
             ],
             [
              0.4444444444444444,
              "#bd3786"
             ],
             [
              0.5555555555555556,
              "#d8576b"
             ],
             [
              0.6666666666666666,
              "#ed7953"
             ],
             [
              0.7777777777777778,
              "#fb9f3a"
             ],
             [
              0.8888888888888888,
              "#fdca26"
             ],
             [
              1,
              "#f0f921"
             ]
            ],
            "type": "heatmap"
           }
          ],
          "heatmapgl": [
           {
            "colorbar": {
             "outlinewidth": 0,
             "ticks": ""
            },
            "colorscale": [
             [
              0,
              "#0d0887"
             ],
             [
              0.1111111111111111,
              "#46039f"
             ],
             [
              0.2222222222222222,
              "#7201a8"
             ],
             [
              0.3333333333333333,
              "#9c179e"
             ],
             [
              0.4444444444444444,
              "#bd3786"
             ],
             [
              0.5555555555555556,
              "#d8576b"
             ],
             [
              0.6666666666666666,
              "#ed7953"
             ],
             [
              0.7777777777777778,
              "#fb9f3a"
             ],
             [
              0.8888888888888888,
              "#fdca26"
             ],
             [
              1,
              "#f0f921"
             ]
            ],
            "type": "heatmapgl"
           }
          ],
          "histogram": [
           {
            "marker": {
             "pattern": {
              "fillmode": "overlay",
              "size": 10,
              "solidity": 0.2
             }
            },
            "type": "histogram"
           }
          ],
          "histogram2d": [
           {
            "colorbar": {
             "outlinewidth": 0,
             "ticks": ""
            },
            "colorscale": [
             [
              0,
              "#0d0887"
             ],
             [
              0.1111111111111111,
              "#46039f"
             ],
             [
              0.2222222222222222,
              "#7201a8"
             ],
             [
              0.3333333333333333,
              "#9c179e"
             ],
             [
              0.4444444444444444,
              "#bd3786"
             ],
             [
              0.5555555555555556,
              "#d8576b"
             ],
             [
              0.6666666666666666,
              "#ed7953"
             ],
             [
              0.7777777777777778,
              "#fb9f3a"
             ],
             [
              0.8888888888888888,
              "#fdca26"
             ],
             [
              1,
              "#f0f921"
             ]
            ],
            "type": "histogram2d"
           }
          ],
          "histogram2dcontour": [
           {
            "colorbar": {
             "outlinewidth": 0,
             "ticks": ""
            },
            "colorscale": [
             [
              0,
              "#0d0887"
             ],
             [
              0.1111111111111111,
              "#46039f"
             ],
             [
              0.2222222222222222,
              "#7201a8"
             ],
             [
              0.3333333333333333,
              "#9c179e"
             ],
             [
              0.4444444444444444,
              "#bd3786"
             ],
             [
              0.5555555555555556,
              "#d8576b"
             ],
             [
              0.6666666666666666,
              "#ed7953"
             ],
             [
              0.7777777777777778,
              "#fb9f3a"
             ],
             [
              0.8888888888888888,
              "#fdca26"
             ],
             [
              1,
              "#f0f921"
             ]
            ],
            "type": "histogram2dcontour"
           }
          ],
          "mesh3d": [
           {
            "colorbar": {
             "outlinewidth": 0,
             "ticks": ""
            },
            "type": "mesh3d"
           }
          ],
          "parcoords": [
           {
            "line": {
             "colorbar": {
              "outlinewidth": 0,
              "ticks": ""
             }
            },
            "type": "parcoords"
           }
          ],
          "pie": [
           {
            "automargin": true,
            "type": "pie"
           }
          ],
          "scatter": [
           {
            "fillpattern": {
             "fillmode": "overlay",
             "size": 10,
             "solidity": 0.2
            },
            "type": "scatter"
           }
          ],
          "scatter3d": [
           {
            "line": {
             "colorbar": {
              "outlinewidth": 0,
              "ticks": ""
             }
            },
            "marker": {
             "colorbar": {
              "outlinewidth": 0,
              "ticks": ""
             }
            },
            "type": "scatter3d"
           }
          ],
          "scattercarpet": [
           {
            "marker": {
             "colorbar": {
              "outlinewidth": 0,
              "ticks": ""
             }
            },
            "type": "scattercarpet"
           }
          ],
          "scattergeo": [
           {
            "marker": {
             "colorbar": {
              "outlinewidth": 0,
              "ticks": ""
             }
            },
            "type": "scattergeo"
           }
          ],
          "scattergl": [
           {
            "marker": {
             "colorbar": {
              "outlinewidth": 0,
              "ticks": ""
             }
            },
            "type": "scattergl"
           }
          ],
          "scattermapbox": [
           {
            "marker": {
             "colorbar": {
              "outlinewidth": 0,
              "ticks": ""
             }
            },
            "type": "scattermapbox"
           }
          ],
          "scatterpolar": [
           {
            "marker": {
             "colorbar": {
              "outlinewidth": 0,
              "ticks": ""
             }
            },
            "type": "scatterpolar"
           }
          ],
          "scatterpolargl": [
           {
            "marker": {
             "colorbar": {
              "outlinewidth": 0,
              "ticks": ""
             }
            },
            "type": "scatterpolargl"
           }
          ],
          "scatterternary": [
           {
            "marker": {
             "colorbar": {
              "outlinewidth": 0,
              "ticks": ""
             }
            },
            "type": "scatterternary"
           }
          ],
          "surface": [
           {
            "colorbar": {
             "outlinewidth": 0,
             "ticks": ""
            },
            "colorscale": [
             [
              0,
              "#0d0887"
             ],
             [
              0.1111111111111111,
              "#46039f"
             ],
             [
              0.2222222222222222,
              "#7201a8"
             ],
             [
              0.3333333333333333,
              "#9c179e"
             ],
             [
              0.4444444444444444,
              "#bd3786"
             ],
             [
              0.5555555555555556,
              "#d8576b"
             ],
             [
              0.6666666666666666,
              "#ed7953"
             ],
             [
              0.7777777777777778,
              "#fb9f3a"
             ],
             [
              0.8888888888888888,
              "#fdca26"
             ],
             [
              1,
              "#f0f921"
             ]
            ],
            "type": "surface"
           }
          ],
          "table": [
           {
            "cells": {
             "fill": {
              "color": "#EBF0F8"
             },
             "line": {
              "color": "white"
             }
            },
            "header": {
             "fill": {
              "color": "#C8D4E3"
             },
             "line": {
              "color": "white"
             }
            },
            "type": "table"
           }
          ]
         },
         "layout": {
          "annotationdefaults": {
           "arrowcolor": "#2a3f5f",
           "arrowhead": 0,
           "arrowwidth": 1
          },
          "autotypenumbers": "strict",
          "coloraxis": {
           "colorbar": {
            "outlinewidth": 0,
            "ticks": ""
           }
          },
          "colorscale": {
           "diverging": [
            [
             0,
             "#8e0152"
            ],
            [
             0.1,
             "#c51b7d"
            ],
            [
             0.2,
             "#de77ae"
            ],
            [
             0.3,
             "#f1b6da"
            ],
            [
             0.4,
             "#fde0ef"
            ],
            [
             0.5,
             "#f7f7f7"
            ],
            [
             0.6,
             "#e6f5d0"
            ],
            [
             0.7,
             "#b8e186"
            ],
            [
             0.8,
             "#7fbc41"
            ],
            [
             0.9,
             "#4d9221"
            ],
            [
             1,
             "#276419"
            ]
           ],
           "sequential": [
            [
             0,
             "#0d0887"
            ],
            [
             0.1111111111111111,
             "#46039f"
            ],
            [
             0.2222222222222222,
             "#7201a8"
            ],
            [
             0.3333333333333333,
             "#9c179e"
            ],
            [
             0.4444444444444444,
             "#bd3786"
            ],
            [
             0.5555555555555556,
             "#d8576b"
            ],
            [
             0.6666666666666666,
             "#ed7953"
            ],
            [
             0.7777777777777778,
             "#fb9f3a"
            ],
            [
             0.8888888888888888,
             "#fdca26"
            ],
            [
             1,
             "#f0f921"
            ]
           ],
           "sequentialminus": [
            [
             0,
             "#0d0887"
            ],
            [
             0.1111111111111111,
             "#46039f"
            ],
            [
             0.2222222222222222,
             "#7201a8"
            ],
            [
             0.3333333333333333,
             "#9c179e"
            ],
            [
             0.4444444444444444,
             "#bd3786"
            ],
            [
             0.5555555555555556,
             "#d8576b"
            ],
            [
             0.6666666666666666,
             "#ed7953"
            ],
            [
             0.7777777777777778,
             "#fb9f3a"
            ],
            [
             0.8888888888888888,
             "#fdca26"
            ],
            [
             1,
             "#f0f921"
            ]
           ]
          },
          "colorway": [
           "#636efa",
           "#EF553B",
           "#00cc96",
           "#ab63fa",
           "#FFA15A",
           "#19d3f3",
           "#FF6692",
           "#B6E880",
           "#FF97FF",
           "#FECB52"
          ],
          "font": {
           "color": "#2a3f5f"
          },
          "geo": {
           "bgcolor": "white",
           "lakecolor": "white",
           "landcolor": "#E5ECF6",
           "showlakes": true,
           "showland": true,
           "subunitcolor": "white"
          },
          "hoverlabel": {
           "align": "left"
          },
          "hovermode": "closest",
          "mapbox": {
           "style": "light"
          },
          "paper_bgcolor": "white",
          "plot_bgcolor": "#E5ECF6",
          "polar": {
           "angularaxis": {
            "gridcolor": "white",
            "linecolor": "white",
            "ticks": ""
           },
           "bgcolor": "#E5ECF6",
           "radialaxis": {
            "gridcolor": "white",
            "linecolor": "white",
            "ticks": ""
           }
          },
          "scene": {
           "xaxis": {
            "backgroundcolor": "#E5ECF6",
            "gridcolor": "white",
            "gridwidth": 2,
            "linecolor": "white",
            "showbackground": true,
            "ticks": "",
            "zerolinecolor": "white"
           },
           "yaxis": {
            "backgroundcolor": "#E5ECF6",
            "gridcolor": "white",
            "gridwidth": 2,
            "linecolor": "white",
            "showbackground": true,
            "ticks": "",
            "zerolinecolor": "white"
           },
           "zaxis": {
            "backgroundcolor": "#E5ECF6",
            "gridcolor": "white",
            "gridwidth": 2,
            "linecolor": "white",
            "showbackground": true,
            "ticks": "",
            "zerolinecolor": "white"
           }
          },
          "shapedefaults": {
           "line": {
            "color": "#2a3f5f"
           }
          },
          "ternary": {
           "aaxis": {
            "gridcolor": "white",
            "linecolor": "white",
            "ticks": ""
           },
           "baxis": {
            "gridcolor": "white",
            "linecolor": "white",
            "ticks": ""
           },
           "bgcolor": "#E5ECF6",
           "caxis": {
            "gridcolor": "white",
            "linecolor": "white",
            "ticks": ""
           }
          },
          "title": {
           "x": 0.05
          },
          "xaxis": {
           "automargin": true,
           "gridcolor": "white",
           "linecolor": "white",
           "ticks": "",
           "title": {
            "standoff": 15
           },
           "zerolinecolor": "white",
           "zerolinewidth": 2
          },
          "yaxis": {
           "automargin": true,
           "gridcolor": "white",
           "linecolor": "white",
           "ticks": "",
           "title": {
            "standoff": 15
           },
           "zerolinecolor": "white",
           "zerolinewidth": 2
          }
         }
        },
        "title": {
         "text": "Display Complex : Generated by DrawComplex_Plotly in OctaDist"
        }
       }
      }
     },
     "metadata": {},
     "output_type": "display_data"
    },
    {
     "data": {
      "text/plain": [
       "<Figure size 640x480 with 0 Axes>"
      ]
     },
     "metadata": {},
     "output_type": "display_data"
    }
   ],
   "source": [
    "# Lets see how to use the octa_dict:\n",
    "# For the first octahedra can be accesed with the indx of the prop_df\n",
    "atom = octa_dict[34]['atom'] # atoms are stored in atoms\n",
    "coord = octa_dict[34]['coord'] # coord are stored in coord\n",
    "test = oc.src.draw.DrawComplex_Plotly(atom=atom, coord=coord, cutoff_global=3.5)\n",
    "test.add_atom()\n",
    "test.add_bond()\n",
    "test.show_plot()"
   ]
  },
  {
   "cell_type": "code",
   "execution_count": 14,
   "metadata": {},
   "outputs": [
    {
     "data": {
      "image/png": "[encoded data removed]",
      "text/plain": [
       "<Figure size 640x480 with 4 Axes>"
      ]
     },
     "metadata": {},
     "output_type": "display_data"
    }
   ],
   "source": [
    "atom = octa_dict[34]['atom'] # atoms are stored in atoms\n",
    "coord = octa_dict[34]['coord'] # coord are stored in coord\n",
    "# Draw the structure\n",
    "test = oc.src.draw.DrawProjection(atom=atom, coord=coord)\n",
    "test.add_atom()\n",
    "test.add_symbol()\n",
    "test.add_plane()\n",
    "test.show_plot()"
   ]
  },
  {
   "cell_type": "code",
   "execution_count": 15,
   "metadata": {},
   "outputs": [
    {
     "name": "stderr",
     "output_type": "stream",
     "text": [
      "/home/pollofrito/Documents/SVC/DEVELOP/Maestra/MAIN/SVC-Maestra/OctaDist/octadist/src/draw.py:969: UserWarning: color is redundantly defined by the 'color' keyword argument and the fmt string \"k-\" (-> color='k'). The keyword argument will take precedence.\n",
      "  self.all_ax[i].plot(x, y, z, \"k-\", color=\"black\")\n",
      "/home/pollofrito/Documents/SVC/DEVELOP/Maestra/MAIN/SVC-Maestra/OctaDist/octadist/src/draw.py:975: UserWarning: color is redundantly defined by the 'color' keyword argument and the fmt string \"k->\" (-> color='k'). The keyword argument will take precedence.\n",
      "  self.all_ax[i].plot(x, y, z, \"k->\", color=\"black\")\n"
     ]
    },
    {
     "data": {
      "image/png": "[encoded data removed]",
      "text/plain": [
       "<Figure size 640x480 with 4 Axes>"
      ]
     },
     "metadata": {},
     "output_type": "display_data"
    }
   ],
   "source": [
    "atom = octa_dict[34]['atom'] # atoms are stored in atoms\n",
    "coord = octa_dict[34]['coord'] # coord are stored in coord\n",
    "# Draw the structure\n",
    "test = oc.src.draw.DrawTwistingPlane(atom=atom, coord=coord)\n",
    "test.add_plane()\n",
    "test.add_symbol()\n",
    "test.add_bond()\n",
    "test.show_plot()"
   ]
  }
 ],
 "metadata": {
  "kernelspec": {
   "display_name": "svc_maestra",
   "language": "python",
   "name": "python3"
  },
  "language_info": {
   "codemirror_mode": {
    "name": "ipython",
    "version": 3
   },
   "file_extension": ".py",
   "mimetype": "text/x-python",
   "name": "python",
   "nbconvert_exporter": "python",
   "pygments_lexer": "ipython3",
   "version": "3.8.18"
  },
  "orig_nbformat": 4
 },
 "nbformat": 4,
 "nbformat_minor": 2
}
